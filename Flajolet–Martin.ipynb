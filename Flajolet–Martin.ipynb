{
  "nbformat": 4,
  "nbformat_minor": 0,
  "metadata": {
    "colab": {
      "provenance": [],
      "include_colab_link": true
    },
    "kernelspec": {
      "name": "python3",
      "display_name": "Python 3"
    },
    "language_info": {
      "name": "python"
    }
  },
  "cells": [
    {
      "cell_type": "markdown",
      "metadata": {
        "id": "view-in-github",
        "colab_type": "text"
      },
      "source": [
        "<a href=\"https://colab.research.google.com/github/samharsh02/Flajolet-Martin-Approach-Big-Data-Mining-/blob/main/Flajolet%E2%80%93Martin.ipynb\" target=\"_parent\"><img src=\"https://colab.research.google.com/assets/colab-badge.svg\" alt=\"Open In Colab\"/></a>"
      ]
    },
    {
      "cell_type": "code",
      "execution_count": null,
      "metadata": {
        "colab": {
          "base_uri": "https://localhost:8080/"
        },
        "id": "_vhI60d5JZ3m",
        "outputId": "6c3c0f7f-ec8a-4165-f0ea-689da8e9ef42"
      },
      "outputs": [
        {
          "output_type": "stream",
          "name": "stdout",
          "text": [
            "Hash functions are defined as (a*x+b)%c, where x is an element of the set.\n",
            "Enter the number of hash functions: 5\n",
            "Enter the space-separated values of a, b and c: 1 2 3\n",
            "Enter the space-separated values of a, b and c: 5 6 7\n",
            "Enter the space-separated values of a, b and c: 8 9 1\n",
            "Enter the space-separated values of a, b and c: 7 8 4\n",
            "Enter the space-separated values of a, b and c: 6 5 4\n",
            "Counts recorded for each hash:  [2, 4, 1, 2, 1]\n"
          ]
        }
      ],
      "source": [
        "data = [4, 2, 5, 9, 1, 6, 3, 7]\n",
        "print(\"Hash functions are defined as (a*x+b)%c, where x is an element of the set.\")\n",
        "inputCount = int(input(\"Enter the number of hash functions: \"))\n",
        "abcList = []\n",
        "\n",
        "for i in range(inputCount):\n",
        "    inputList = input(\"Enter the space-separated values of a, b and c: \").split(\" \")\n",
        "    abcList.append([int(i) for i in inputList])\n",
        "\n",
        "finalCountsRecorded = []\n",
        "\n",
        "for abc in abcList:\n",
        "    binElems = []\n",
        "    # Evaluates the hash function, then converts it to binary.\n",
        "    for j in set(data):\n",
        "        # Appends binary output to a list\n",
        "        binElems.append(bin((abc[0] * j + abc[1]) % abc[2])[2:])\n",
        "\n",
        "    greatestTrailing = 0\n",
        "    # Processes every element for that specific hash\n",
        "    for k in binElems:\n",
        "        reversedCount = k[::-1]\n",
        "        count = 0\n",
        "        for i in reversedCount:\n",
        "            if i == '1':\n",
        "                if count > greatestTrailing:\n",
        "                    # The greatest number of trailing zeros are established\n",
        "                    greatestTrailing = count\n",
        "                break\n",
        "            else:\n",
        "                count += 1\n",
        "    # The formula R = 2^r is applied, where R is the number of elements, and r is max trailing zeros recorded\n",
        "    finalCountsRecorded.append(2 ** greatestTrailing)\n",
        "\n",
        "print(\"Counts recorded for each hash: \", finalCountsRecorded)\n"
      ]
    }
  ]
}